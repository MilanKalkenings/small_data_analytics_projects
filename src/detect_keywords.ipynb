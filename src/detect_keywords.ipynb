{
 "cells": [
  {
   "cell_type": "code",
   "execution_count": 1,
   "metadata": {},
   "outputs": [],
   "source": [
    "from collections import Counter\n",
    "import pandas as pd\n",
    "from typing import Union\n",
    "\n",
    "\n",
    "def calculate_frequency_ratios(\n",
    "        population: Union[str, pd.Series], \n",
    "        sample: Union[str, pd.Series],\n",
    "        q: float = None,\n",
    "        binary_per_entry: bool = False) -> pd.Series:\n",
    "    \"\"\"\n",
    "    Returns how much over/underrepresented a word is in a sample, relative to the population.\n",
    "    important: only considers words in the population that also occur in the sample!\n",
    "    outcome per word:\n",
    "    inf -> word occurs in sample but not in population\n",
    "    0   -> word occurs as often in the sample as in the population\n",
    "    0+  -> word occurs more often in the sample than in the population\n",
    "    0-  -> word occurs less often in the sample than in the population\n",
    "    \"\"\"\n",
    "    if isinstance(sample, pd.Series):\n",
    "        sample = sample.fillna(\"\").astype(str).apply(lambda string: string.lower())\n",
    "        if binary_per_entry:\n",
    "            sample = sample.apply(lambda string: \" \".join(list(set(string.split(\" \")))))\n",
    "        sample = sample.str.cat(sep=\" \")\n",
    "    if isinstance(population, pd.Series):\n",
    "        population = population.fillna(\"\").astype(str).apply(lambda string: string.lower())\n",
    "        if binary_per_entry:\n",
    "            population = population.apply(lambda string: \" \".join(list(set(string.split(\" \")))))\n",
    "        population = population.str.cat(sep=\" \")\n",
    "\n",
    "    sample_counts = Counter(sample.split())\n",
    "    total_sample = sum(sample_counts.values())\n",
    "\n",
    "    population = \" \".join(w for w in population.split(\" \") if w in list(set(sample.split(\" \"))))\n",
    "    population_counts = Counter(population.split())\n",
    "    total_population = sum(population_counts.values())\n",
    "\n",
    "    # difference of relative frequencies\n",
    "    frequency_ratios = {}\n",
    "    for word, sample_freq in sample_counts.items():\n",
    "        population_freq = population_counts.get(word, 0)\n",
    "\n",
    "        population_relative = population_freq / total_population\n",
    "        sample_relative = sample_freq / total_sample\n",
    "\n",
    "        if population_relative == 0:\n",
    "            frequency_ratios[word] = None\n",
    "        else:\n",
    "            frequency_ratios[word] = sample_relative - population_relative\n",
    "    frequency_ratios = pd.Series(frequency_ratios)\n",
    "\n",
    "    # only keep over or underrepresented words if q is set\n",
    "    if q is not None:\n",
    "        max_val = frequency_ratios.max() + 1\n",
    "        frequency_ratios.fillna(max_val)\n",
    "        lower_bound = frequency_ratios.quantile(q)\n",
    "        upper_bound = frequency_ratios.quantile(1-q)\n",
    "        frequency_ratios = frequency_ratios[(frequency_ratios <= lower_bound) | (frequency_ratios >= upper_bound)]\n",
    "        frequency_ratios.loc[frequency_ratios == max_val] = None\n",
    "    return frequency_ratios.fillna(float(\"inf\")).sort_values(ascending=False)"
   ]
  },
  {
   "cell_type": "code",
   "execution_count": 2,
   "metadata": {},
   "outputs": [
    {
     "data": {
      "text/plain": [
       "grape          inf\n",
       "kiwi      0.033333\n",
       "berry     0.033333\n",
       "peach     0.033333\n",
       "apple    -0.066667\n",
       "banana   -0.066667\n",
       "melon    -0.066667\n",
       "dtype: float64"
      ]
     },
     "execution_count": 2,
     "metadata": {},
     "output_type": "execute_result"
    }
   ],
   "source": [
    "import pandas as pd\n",
    "import random\n",
    "\n",
    "\n",
    "words_list = [\n",
    "    \"apple\", \"banana\", \"orange\", \"grape\", \"peach\", \"mango\", \"berry\", \"kiwi\", \"melon\", \"plum\", \"cherry\", \"pear\", \n",
    "    \"lemon\", \"lime\", \"fig\", \"apricot\", \"nectarine\", \"pomegranate\", \"papaya\", \"passionfruit\", \"date\", \"guava\", \n",
    "    \"coconut\", \"pineapple\", \"persimmon\", \"starfruit\", \"rambutan\", \"lychee\", \"durian\", \"jackfruit\", \"tomato\", \n",
    "    \"cucumber\", \"bellpepper\", \"carrot\", \"lettuce\", \"spinach\", \"kale\", \"broccoli\", \"cauliflower\", \"zucchini\", \n",
    "    \"pumpkin\", \"squash\", \"eggplant\", \"radish\", \"beet\", \"turnip\", \"sweetpotato\", \"yam\", \"ginger\", \"garlic\", \n",
    "    \"onion\", \"shallot\", \"leek\", \"chive\", \"cilantro\", \"parsley\", \"basil\", \"mint\", \"rosemary\", \"thyme\", \n",
    "    \"oregano\", \"dill\", \"sage\", \"tarragon\", \"bayleaf\", \"lavender\", \"saffron\", \"vanilla\", \"cinnamon\", \"clove\", \n",
    "    \"nutmeg\", \"allspice\", \"peppercorn\", \"mustardseed\", \"fennel\", \"coriander\", \"cumin\", \"turmeric\", \"paprika\", \n",
    "    \"chili\", \"anise\", \"cardamom\", \"mace\", \"juniper\", \"sesame\", \"flaxseed\", \"poppyseed\", \"pumpkinseed\", \n",
    "    \"sunflowerseed\", \"almond\", \"peanut\", \"walnut\", \"pecan\", \"hazelnut\", \"cashew\", \"macadamia\", \"pistachio\", \n",
    "    \"brazilnut\", \"chestnut\", \"acorn\", \"quinoa\", \"rice\", \"barley\", \"oat\", \"wheat\", \"rye\", \"corn\", \"millet\", \n",
    "    \"buckwheat\", \"spelt\", \"amaranth\", \"sorghum\", \"teff\", \"polenta\", \"couscous\", \"bulgur\", \"farro\", \"kamut\", \n",
    "    \"triticale\", \"semolina\", \"feta\", \"mozzarella\", \"cheddar\", \"parmesan\", \"gouda\", \"brie\", \"camembert\", \n",
    "    \"ricotta\", \"mascarpone\", \"creamcheese\", \"bluecheese\", \"roquefort\", \"stilton\", \"goatcheese\", \"havarti\", \n",
    "    \"munster\", \"provolone\", \"swiss\", \"gruyere\", \"comte\", \"pecorino\", \"romano\", \"asiago\", \"manchego\", \"emmental\", \n",
    "    \"halloumi\", \"paneer\", \"tofu\", \"tempeh\", \"seitan\", \"edamame\", \"lentil\", \"chickpea\", \"kidneybean\", \n",
    "    \"blackbean\", \"pinto\", \"navybean\", \"mungbean\", \"soybean\", \"fava\", \"lima\", \"butterbean\", \"splitpea\", \n",
    "    \"greenbean\", \"snappea\", \"snowpea\", \"runnerbean\", \"adzuki\", \"peanutbutter\", \"almondbutter\", \"tahini\", \n",
    "    \"honey\", \"maplesyrup\", \"molasses\", \"jelly\", \"jam\", \"preserves\", \"marmalade\", \"butter\", \"margarine\"\n",
    "]\n",
    "\n",
    "population = pd.Series(random.choices(words_list, k=200))\n",
    "sample = pd.Series(random.choices(words_list[:10], k=10))\n",
    "result = calculate_frequency_ratios(population=population, sample=sample)\n",
    "result"
   ]
  }
 ],
 "metadata": {
  "kernelspec": {
   "display_name": "base",
   "language": "python",
   "name": "python3"
  },
  "language_info": {
   "codemirror_mode": {
    "name": "ipython",
    "version": 3
   },
   "file_extension": ".py",
   "mimetype": "text/x-python",
   "name": "python",
   "nbconvert_exporter": "python",
   "pygments_lexer": "ipython3",
   "version": "3.9.13"
  }
 },
 "nbformat": 4,
 "nbformat_minor": 2
}
